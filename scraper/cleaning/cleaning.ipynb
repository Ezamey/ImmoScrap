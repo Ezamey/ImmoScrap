{
 "cells": [
  {
   "cell_type": "code",
   "execution_count": 53,
   "metadata": {},
   "outputs": [],
   "source": [
    "#imports\n",
    "import pandas as pd"
   ]
  },
  {
   "cell_type": "markdown",
   "metadata": {},
   "source": [
    "stocks.csv contient le résultat de 150 pages pour house et appartements"
   ]
  },
  {
   "cell_type": "code",
   "execution_count": 54,
   "metadata": {},
   "outputs": [],
   "source": [
    "pd.options.display.max_columns = None"
   ]
  },
  {
   "cell_type": "code",
   "execution_count": 55,
   "metadata": {},
   "outputs": [],
   "source": [
    "d= \"stocks.csv\""
   ]
  },
  {
   "cell_type": "code",
   "execution_count": 56,
   "metadata": {},
   "outputs": [],
   "source": [
    "data = pd.read_csv(d)"
   ]
  },
  {
   "cell_type": "code",
   "execution_count": 57,
   "metadata": {},
   "outputs": [
    {
     "data": {
      "text/html": [
       "<div>\n",
       "<style scoped>\n",
       "    .dataframe tbody tr th:only-of-type {\n",
       "        vertical-align: middle;\n",
       "    }\n",
       "\n",
       "    .dataframe tbody tr th {\n",
       "        vertical-align: top;\n",
       "    }\n",
       "\n",
       "    .dataframe thead th {\n",
       "        text-align: right;\n",
       "    }\n",
       "</style>\n",
       "<table border=\"1\" class=\"dataframe\">\n",
       "  <thead>\n",
       "    <tr style=\"text-align: right;\">\n",
       "      <th></th>\n",
       "      <th>id</th>\n",
       "      <th>type</th>\n",
       "      <th>subtype</th>\n",
       "      <th>price</th>\n",
       "      <th>transactionType</th>\n",
       "      <th>zip</th>\n",
       "      <th>visualisationOption</th>\n",
       "      <th>cuisine_type</th>\n",
       "      <th>constructionYear</th>\n",
       "      <th>condition</th>\n",
       "      <th>heatingType</th>\n",
       "      <th>primaryEnergyConsumptionLevel</th>\n",
       "      <th>room_number</th>\n",
       "      <th>surface</th>\n",
       "      <th>atticExists</th>\n",
       "      <th>basementExists</th>\n",
       "      <th>hasSwimmingPool</th>\n",
       "      <th>indoor</th>\n",
       "      <th>outdoor</th>\n",
       "      <th>short_id</th>\n",
       "      <th>company_name</th>\n",
       "      <th>m2</th>\n",
       "      <th>commune</th>\n",
       "    </tr>\n",
       "  </thead>\n",
       "  <tbody>\n",
       "    <tr>\n",
       "      <th>0</th>\n",
       "      <td>9043036</td>\n",
       "      <td>apartment</td>\n",
       "      <td>apartment</td>\n",
       "      <td>195000</td>\n",
       "      <td>for sale</td>\n",
       "      <td>9600</td>\n",
       "      <td>xl</td>\n",
       "      <td>installed</td>\n",
       "      <td>2014.0</td>\n",
       "      <td>good</td>\n",
       "      <td>gas</td>\n",
       "      <td>NaN</td>\n",
       "      <td>2.0</td>\n",
       "      <td>NaN</td>\n",
       "      <td>NaN</td>\n",
       "      <td>NaN</td>\n",
       "      <td>NaN</td>\n",
       "      <td>NaN</td>\n",
       "      <td>NaN</td>\n",
       "      <td>1002634</td>\n",
       "      <td>immo beguin</td>\n",
       "      <td>75</td>\n",
       "      <td>Renaix</td>\n",
       "    </tr>\n",
       "    <tr>\n",
       "      <th>1</th>\n",
       "      <td>9041098</td>\n",
       "      <td>apartment group</td>\n",
       "      <td>apartment group</td>\n",
       "      <td>165000 - 420000</td>\n",
       "      <td>for sale</td>\n",
       "      <td>6001</td>\n",
       "      <td>xl</td>\n",
       "      <td>NaN</td>\n",
       "      <td>NaN</td>\n",
       "      <td>NaN</td>\n",
       "      <td>NaN</td>\n",
       "      <td>NaN</td>\n",
       "      <td>NaN</td>\n",
       "      <td>NaN</td>\n",
       "      <td>NaN</td>\n",
       "      <td>NaN</td>\n",
       "      <td>NaN</td>\n",
       "      <td>NaN</td>\n",
       "      <td>NaN</td>\n",
       "      <td>1400721</td>\n",
       "      <td>concept confort sprl</td>\n",
       "      <td>64</td>\n",
       "      <td>Marcinelle</td>\n",
       "    </tr>\n",
       "    <tr>\n",
       "      <th>2</th>\n",
       "      <td>9034494</td>\n",
       "      <td>apartment</td>\n",
       "      <td>apartment</td>\n",
       "      <td>715000</td>\n",
       "      <td>for sale</td>\n",
       "      <td>1950</td>\n",
       "      <td>xl</td>\n",
       "      <td>usa hyper equipped</td>\n",
       "      <td>2020.0</td>\n",
       "      <td>as new</td>\n",
       "      <td>gas</td>\n",
       "      <td>NaN</td>\n",
       "      <td>2.0</td>\n",
       "      <td>NaN</td>\n",
       "      <td>NaN</td>\n",
       "      <td>True</td>\n",
       "      <td>NaN</td>\n",
       "      <td>1.0</td>\n",
       "      <td>1.0</td>\n",
       "      <td>2352</td>\n",
       "      <td>latour et petit vente</td>\n",
       "      <td>126</td>\n",
       "      <td>Kraainem</td>\n",
       "    </tr>\n",
       "    <tr>\n",
       "      <th>3</th>\n",
       "      <td>9042175</td>\n",
       "      <td>apartment group</td>\n",
       "      <td>apartment group</td>\n",
       "      <td>127000 - 166000</td>\n",
       "      <td>for sale</td>\n",
       "      <td>1160</td>\n",
       "      <td>xl</td>\n",
       "      <td>NaN</td>\n",
       "      <td>NaN</td>\n",
       "      <td>NaN</td>\n",
       "      <td>NaN</td>\n",
       "      <td>NaN</td>\n",
       "      <td>NaN</td>\n",
       "      <td>NaN</td>\n",
       "      <td>NaN</td>\n",
       "      <td>NaN</td>\n",
       "      <td>NaN</td>\n",
       "      <td>1.0</td>\n",
       "      <td>1.0</td>\n",
       "      <td>2575488</td>\n",
       "      <td>we invest real estate</td>\n",
       "      <td>19</td>\n",
       "      <td>Auderghem</td>\n",
       "    </tr>\n",
       "    <tr>\n",
       "      <th>4</th>\n",
       "      <td>9039019</td>\n",
       "      <td>apartment</td>\n",
       "      <td>apartment</td>\n",
       "      <td>1550000</td>\n",
       "      <td>for sale</td>\n",
       "      <td>1050</td>\n",
       "      <td>xl</td>\n",
       "      <td>usa hyper equipped</td>\n",
       "      <td>2017.0</td>\n",
       "      <td>as new</td>\n",
       "      <td>gas</td>\n",
       "      <td>NaN</td>\n",
       "      <td>3.0</td>\n",
       "      <td>NaN</td>\n",
       "      <td>NaN</td>\n",
       "      <td>NaN</td>\n",
       "      <td>NaN</td>\n",
       "      <td>NaN</td>\n",
       "      <td>1.0</td>\n",
       "      <td>2595964</td>\n",
       "      <td>lecobel vaneau vente neuf</td>\n",
       "      <td>213</td>\n",
       "      <td>Ixelles</td>\n",
       "    </tr>\n",
       "  </tbody>\n",
       "</table>\n",
       "</div>"
      ],
      "text/plain": [
       "        id             type          subtype            price transactionType  \\\n",
       "0  9043036        apartment        apartment           195000        for sale   \n",
       "1  9041098  apartment group  apartment group  165000 - 420000        for sale   \n",
       "2  9034494        apartment        apartment           715000        for sale   \n",
       "3  9042175  apartment group  apartment group  127000 - 166000        for sale   \n",
       "4  9039019        apartment        apartment          1550000        for sale   \n",
       "\n",
       "    zip visualisationOption        cuisine_type  constructionYear condition  \\\n",
       "0  9600                  xl           installed            2014.0      good   \n",
       "1  6001                  xl                 NaN               NaN       NaN   \n",
       "2  1950                  xl  usa hyper equipped            2020.0    as new   \n",
       "3  1160                  xl                 NaN               NaN       NaN   \n",
       "4  1050                  xl  usa hyper equipped            2017.0    as new   \n",
       "\n",
       "  heatingType  primaryEnergyConsumptionLevel  room_number  surface  \\\n",
       "0         gas                            NaN          2.0      NaN   \n",
       "1         NaN                            NaN          NaN      NaN   \n",
       "2         gas                            NaN          2.0      NaN   \n",
       "3         NaN                            NaN          NaN      NaN   \n",
       "4         gas                            NaN          3.0      NaN   \n",
       "\n",
       "  atticExists basementExists hasSwimmingPool  indoor  outdoor  short_id  \\\n",
       "0         NaN            NaN             NaN     NaN      NaN   1002634   \n",
       "1         NaN            NaN             NaN     NaN      NaN   1400721   \n",
       "2         NaN           True             NaN     1.0      1.0      2352   \n",
       "3         NaN            NaN             NaN     1.0      1.0   2575488   \n",
       "4         NaN            NaN             NaN     NaN      1.0   2595964   \n",
       "\n",
       "                company_name   m2     commune  \n",
       "0                immo beguin   75      Renaix  \n",
       "1       concept confort sprl   64  Marcinelle  \n",
       "2      latour et petit vente  126    Kraainem  \n",
       "3      we invest real estate   19   Auderghem  \n",
       "4  lecobel vaneau vente neuf  213     Ixelles  "
      ]
     },
     "execution_count": 57,
     "metadata": {},
     "output_type": "execute_result"
    }
   ],
   "source": [
    "data.head(5)"
   ]
  },
  {
   "cell_type": "code",
   "execution_count": 58,
   "metadata": {},
   "outputs": [
    {
     "name": "stdout",
     "output_type": "stream",
     "text": [
      "<class 'pandas.core.frame.DataFrame'>\n",
      "RangeIndex: 8930 entries, 0 to 8929\n",
      "Data columns (total 23 columns):\n",
      " #   Column                         Non-Null Count  Dtype  \n",
      "---  ------                         --------------  -----  \n",
      " 0   id                             8930 non-null   int64  \n",
      " 1   type                           8930 non-null   object \n",
      " 2   subtype                        8930 non-null   object \n",
      " 3   price                          8930 non-null   object \n",
      " 4   transactionType                8930 non-null   object \n",
      " 5   zip                            8930 non-null   int64  \n",
      " 6   visualisationOption            8930 non-null   object \n",
      " 7   cuisine_type                   7015 non-null   object \n",
      " 8   constructionYear               5871 non-null   float64\n",
      " 9   condition                      7136 non-null   object \n",
      " 10  heatingType                    6964 non-null   object \n",
      " 11  primaryEnergyConsumptionLevel  0 non-null      float64\n",
      " 12  room_number                    8096 non-null   float64\n",
      " 13  surface                        1983 non-null   float64\n",
      " 14  atticExists                    1407 non-null   object \n",
      " 15  basementExists                 4394 non-null   object \n",
      " 16  hasSwimmingPool                294 non-null    object \n",
      " 17  indoor                         3693 non-null   float64\n",
      " 18  outdoor                        3002 non-null   float64\n",
      " 19  short_id                       8930 non-null   int64  \n",
      " 20  company_name                   8293 non-null   object \n",
      " 21  m2                             8930 non-null   int64  \n",
      " 22  commune                        8930 non-null   object \n",
      "dtypes: float64(6), int64(4), object(13)\n",
      "memory usage: 1.6+ MB\n"
     ]
    }
   ],
   "source": [
    "data.info()"
   ]
  },
  {
   "cell_type": "markdown",
   "metadata": {},
   "source": [
    " # Exploring datas"
   ]
  },
  {
   "cell_type": "code",
   "execution_count": 59,
   "metadata": {},
   "outputs": [
    {
     "data": {
      "text/plain": [
       "installed             2993\n",
       "hyper equipped        1684\n",
       "semi equipped          925\n",
       "usa hyper equipped     759\n",
       "not installed          398\n",
       "usa installed          186\n",
       "usa semi equipped       61\n",
       "usa uninstalled          9\n",
       "Name: cuisine_type, dtype: int64"
      ]
     },
     "execution_count": 59,
     "metadata": {},
     "output_type": "execute_result"
    }
   ],
   "source": [
    "data[\"cuisine_type\"].value_counts()"
   ]
  },
  {
   "cell_type": "markdown",
   "metadata": {},
   "source": [
    "- Remplacer les null par installed? les supprimer?"
   ]
  },
  {
   "cell_type": "code",
   "execution_count": 60,
   "metadata": {},
   "outputs": [
    {
     "data": {
      "text/plain": [
       "2020.0    428\n",
       "2019.0    292\n",
       "2018.0    171\n",
       "1930.0    154\n",
       "1970.0    147\n",
       "         ... \n",
       "1803.0      1\n",
       "1782.0      1\n",
       "1834.0      1\n",
       "1837.0      1\n",
       "1820.0      1\n",
       "Name: constructionYear, Length: 170, dtype: int64"
      ]
     },
     "execution_count": 60,
     "metadata": {},
     "output_type": "execute_result"
    }
   ],
   "source": [
    "data[\"constructionYear\"].value_counts()"
   ]
  },
  {
   "cell_type": "code",
   "execution_count": 61,
   "metadata": {},
   "outputs": [
    {
     "data": {
      "text/plain": [
       "as new            2755\n",
       "good              2626\n",
       "to be done up      642\n",
       "to renovate        563\n",
       "just renovated     518\n",
       "to restore          32\n",
       "Name: condition, dtype: int64"
      ]
     },
     "execution_count": 61,
     "metadata": {},
     "output_type": "execute_result"
    }
   ],
   "source": [
    "data[\"condition\"].value_counts()"
   ]
  },
  {
   "cell_type": "code",
   "execution_count": 62,
   "metadata": {},
   "outputs": [
    {
     "data": {
      "text/plain": [
       "gas         4921\n",
       "fueloil     1478\n",
       "electric     472\n",
       "pellet        73\n",
       "wood           8\n",
       "carbon         8\n",
       "solar          4\n",
       "Name: heatingType, dtype: int64"
      ]
     },
     "execution_count": 62,
     "metadata": {},
     "output_type": "execute_result"
    }
   ],
   "source": [
    "data[\"heatingType\"].value_counts()"
   ]
  },
  {
   "cell_type": "code",
   "execution_count": 63,
   "metadata": {},
   "outputs": [
    {
     "data": {
      "text/plain": [
       "True    1407\n",
       "Name: atticExists, dtype: int64"
      ]
     },
     "execution_count": 63,
     "metadata": {},
     "output_type": "execute_result"
    }
   ],
   "source": [
    "data[\"atticExists\"].value_counts()#assume rest is false"
   ]
  },
  {
   "cell_type": "code",
   "execution_count": 64,
   "metadata": {},
   "outputs": [
    {
     "data": {
      "text/plain": [
       "True    4394\n",
       "Name: basementExists, dtype: int64"
      ]
     },
     "execution_count": 64,
     "metadata": {},
     "output_type": "execute_result"
    }
   ],
   "source": [
    "data[\"basementExists\"].value_counts()#assume rest is false"
   ]
  },
  {
   "cell_type": "code",
   "execution_count": 65,
   "metadata": {},
   "outputs": [
    {
     "data": {
      "text/plain": [
       "True    294\n",
       "Name: hasSwimmingPool, dtype: int64"
      ]
     },
     "execution_count": 65,
     "metadata": {},
     "output_type": "execute_result"
    }
   ],
   "source": [
    "data[\"hasSwimmingPool\"].value_counts()#assume rest is false"
   ]
  },
  {
   "cell_type": "code",
   "execution_count": 66,
   "metadata": {},
   "outputs": [],
   "source": [
    "#data[\"indoor\"].value_counts() ??"
   ]
  },
  {
   "cell_type": "code",
   "execution_count": 67,
   "metadata": {},
   "outputs": [],
   "source": [
    "#data[\"outdoor\"].value_counts() ??"
   ]
  },
  {
   "cell_type": "code",
   "execution_count": 68,
   "metadata": {},
   "outputs": [
    {
     "data": {
      "text/html": [
       "<div>\n",
       "<style scoped>\n",
       "    .dataframe tbody tr th:only-of-type {\n",
       "        vertical-align: middle;\n",
       "    }\n",
       "\n",
       "    .dataframe tbody tr th {\n",
       "        vertical-align: top;\n",
       "    }\n",
       "\n",
       "    .dataframe thead th {\n",
       "        text-align: right;\n",
       "    }\n",
       "</style>\n",
       "<table border=\"1\" class=\"dataframe\">\n",
       "  <thead>\n",
       "    <tr style=\"text-align: right;\">\n",
       "      <th></th>\n",
       "      <th>id</th>\n",
       "      <th>zip</th>\n",
       "      <th>constructionYear</th>\n",
       "      <th>primaryEnergyConsumptionLevel</th>\n",
       "      <th>room_number</th>\n",
       "      <th>surface</th>\n",
       "      <th>indoor</th>\n",
       "      <th>outdoor</th>\n",
       "      <th>short_id</th>\n",
       "      <th>m2</th>\n",
       "    </tr>\n",
       "  </thead>\n",
       "  <tbody>\n",
       "    <tr>\n",
       "      <th>count</th>\n",
       "      <td>8.930000e+03</td>\n",
       "      <td>8930.000000</td>\n",
       "      <td>5871.000000</td>\n",
       "      <td>0.0</td>\n",
       "      <td>8096.000000</td>\n",
       "      <td>1983.000000</td>\n",
       "      <td>3693.000000</td>\n",
       "      <td>3002.000000</td>\n",
       "      <td>8.930000e+03</td>\n",
       "      <td>8930.000000</td>\n",
       "    </tr>\n",
       "    <tr>\n",
       "      <th>mean</th>\n",
       "      <td>8.821395e+06</td>\n",
       "      <td>4677.003919</td>\n",
       "      <td>1976.856924</td>\n",
       "      <td>NaN</td>\n",
       "      <td>3.044219</td>\n",
       "      <td>1209.682804</td>\n",
       "      <td>12.394259</td>\n",
       "      <td>4.379747</td>\n",
       "      <td>1.784001e+06</td>\n",
       "      <td>168.532587</td>\n",
       "    </tr>\n",
       "    <tr>\n",
       "      <th>std</th>\n",
       "      <td>3.427336e+05</td>\n",
       "      <td>3104.424207</td>\n",
       "      <td>40.032972</td>\n",
       "      <td>NaN</td>\n",
       "      <td>1.710563</td>\n",
       "      <td>5266.197009</td>\n",
       "      <td>576.042171</td>\n",
       "      <td>11.813291</td>\n",
       "      <td>1.202479e+06</td>\n",
       "      <td>138.481378</td>\n",
       "    </tr>\n",
       "    <tr>\n",
       "      <th>min</th>\n",
       "      <td>3.702839e+06</td>\n",
       "      <td>1000.000000</td>\n",
       "      <td>1776.000000</td>\n",
       "      <td>NaN</td>\n",
       "      <td>0.000000</td>\n",
       "      <td>1.000000</td>\n",
       "      <td>1.000000</td>\n",
       "      <td>1.000000</td>\n",
       "      <td>1.410000e+03</td>\n",
       "      <td>1.000000</td>\n",
       "    </tr>\n",
       "    <tr>\n",
       "      <th>25%</th>\n",
       "      <td>8.797262e+06</td>\n",
       "      <td>1380.000000</td>\n",
       "      <td>1958.000000</td>\n",
       "      <td>NaN</td>\n",
       "      <td>2.000000</td>\n",
       "      <td>90.000000</td>\n",
       "      <td>1.000000</td>\n",
       "      <td>1.000000</td>\n",
       "      <td>6.824080e+05</td>\n",
       "      <td>90.000000</td>\n",
       "    </tr>\n",
       "    <tr>\n",
       "      <th>50%</th>\n",
       "      <td>8.936056e+06</td>\n",
       "      <td>4400.000000</td>\n",
       "      <td>1980.000000</td>\n",
       "      <td>NaN</td>\n",
       "      <td>3.000000</td>\n",
       "      <td>275.000000</td>\n",
       "      <td>1.000000</td>\n",
       "      <td>2.000000</td>\n",
       "      <td>1.861704e+06</td>\n",
       "      <td>130.000000</td>\n",
       "    </tr>\n",
       "    <tr>\n",
       "      <th>75%</th>\n",
       "      <td>9.000496e+06</td>\n",
       "      <td>8300.000000</td>\n",
       "      <td>2012.000000</td>\n",
       "      <td>NaN</td>\n",
       "      <td>4.000000</td>\n",
       "      <td>800.000000</td>\n",
       "      <td>2.000000</td>\n",
       "      <td>4.000000</td>\n",
       "      <td>2.844130e+06</td>\n",
       "      <td>205.000000</td>\n",
       "    </tr>\n",
       "    <tr>\n",
       "      <th>max</th>\n",
       "      <td>9.043802e+06</td>\n",
       "      <td>9990.000000</td>\n",
       "      <td>2022.000000</td>\n",
       "      <td>NaN</td>\n",
       "      <td>41.000000</td>\n",
       "      <td>80000.000000</td>\n",
       "      <td>35000.000000</td>\n",
       "      <td>250.000000</td>\n",
       "      <td>3.675261e+06</td>\n",
       "      <td>2300.000000</td>\n",
       "    </tr>\n",
       "  </tbody>\n",
       "</table>\n",
       "</div>"
      ],
      "text/plain": [
       "                 id          zip  constructionYear  \\\n",
       "count  8.930000e+03  8930.000000       5871.000000   \n",
       "mean   8.821395e+06  4677.003919       1976.856924   \n",
       "std    3.427336e+05  3104.424207         40.032972   \n",
       "min    3.702839e+06  1000.000000       1776.000000   \n",
       "25%    8.797262e+06  1380.000000       1958.000000   \n",
       "50%    8.936056e+06  4400.000000       1980.000000   \n",
       "75%    9.000496e+06  8300.000000       2012.000000   \n",
       "max    9.043802e+06  9990.000000       2022.000000   \n",
       "\n",
       "       primaryEnergyConsumptionLevel  room_number       surface        indoor  \\\n",
       "count                            0.0  8096.000000   1983.000000   3693.000000   \n",
       "mean                             NaN     3.044219   1209.682804     12.394259   \n",
       "std                              NaN     1.710563   5266.197009    576.042171   \n",
       "min                              NaN     0.000000      1.000000      1.000000   \n",
       "25%                              NaN     2.000000     90.000000      1.000000   \n",
       "50%                              NaN     3.000000    275.000000      1.000000   \n",
       "75%                              NaN     4.000000    800.000000      2.000000   \n",
       "max                              NaN    41.000000  80000.000000  35000.000000   \n",
       "\n",
       "           outdoor      short_id           m2  \n",
       "count  3002.000000  8.930000e+03  8930.000000  \n",
       "mean      4.379747  1.784001e+06   168.532587  \n",
       "std      11.813291  1.202479e+06   138.481378  \n",
       "min       1.000000  1.410000e+03     1.000000  \n",
       "25%       1.000000  6.824080e+05    90.000000  \n",
       "50%       2.000000  1.861704e+06   130.000000  \n",
       "75%       4.000000  2.844130e+06   205.000000  \n",
       "max     250.000000  3.675261e+06  2300.000000  "
      ]
     },
     "execution_count": 68,
     "metadata": {},
     "output_type": "execute_result"
    }
   ],
   "source": [
    "data.describe()"
   ]
  },
  {
   "cell_type": "markdown",
   "metadata": {},
   "source": [
    " # Premières modifs"
   ]
  },
  {
   "cell_type": "code",
   "execution_count": 69,
   "metadata": {},
   "outputs": [],
   "source": [
    "data.rename(columns={'m2':\"mètres carrés\"},inplace=True)"
   ]
  },
  {
   "cell_type": "code",
   "execution_count": 70,
   "metadata": {},
   "outputs": [],
   "source": [
    "del data[\"surface\"]\n",
    "del data[\"primaryEnergyConsumptionLevel\"]"
   ]
  },
  {
   "cell_type": "code",
   "execution_count": 71,
   "metadata": {},
   "outputs": [
    {
     "data": {
      "text/plain": [
       "Index(['id', 'type', 'subtype', 'price', 'transactionType', 'zip',\n",
       "       'visualisationOption', 'cuisine_type', 'constructionYear', 'condition',\n",
       "       'heatingType', 'room_number', 'atticExists', 'basementExists',\n",
       "       'hasSwimmingPool', 'indoor', 'outdoor', 'short_id', 'company_name',\n",
       "       'mètres carrés', 'commune'],\n",
       "      dtype='object')"
      ]
     },
     "execution_count": 71,
     "metadata": {},
     "output_type": "execute_result"
    }
   ],
   "source": [
    "data.columns"
   ]
  },
  {
   "cell_type": "markdown",
   "metadata": {},
   "source": [
    "### Replacing  missing value in data[\"atticExists\"]\n"
   ]
  },
  {
   "cell_type": "code",
   "execution_count": null,
   "metadata": {},
   "outputs": [],
   "source": [
    "attics = data[\"atticExists\"]"
   ]
  },
  {
   "cell_type": "code",
   "execution_count": 73,
   "metadata": {},
   "outputs": [
    {
     "data": {
      "text/plain": [
       "True    1407\n",
       "Name: atticExists, dtype: int64"
      ]
     },
     "execution_count": 73,
     "metadata": {},
     "output_type": "execute_result"
    }
   ],
   "source": [
    "attics.value_counts()"
   ]
  },
  {
   "cell_type": "code",
   "execution_count": 74,
   "metadata": {},
   "outputs": [],
   "source": [
    "attics.fillna(\"False\",inplace= True)"
   ]
  },
  {
   "cell_type": "code",
   "execution_count": 75,
   "metadata": {},
   "outputs": [
    {
     "data": {
      "text/plain": [
       "False    7523\n",
       "True     1407\n",
       "Name: atticExists, dtype: int64"
      ]
     },
     "execution_count": 75,
     "metadata": {},
     "output_type": "execute_result"
    }
   ],
   "source": [
    "attics.value_counts()"
   ]
  },
  {
   "cell_type": "code",
   "execution_count": 76,
   "metadata": {},
   "outputs": [],
   "source": [
    "data[\"atticExists\"] =attics"
   ]
  },
  {
   "cell_type": "code",
   "execution_count": 77,
   "metadata": {},
   "outputs": [
    {
     "data": {
      "text/plain": [
       "False    7523\n",
       "True     1407\n",
       "Name: atticExists, dtype: int64"
      ]
     },
     "execution_count": 77,
     "metadata": {},
     "output_type": "execute_result"
    }
   ],
   "source": [
    "data[\"atticExists\"].value_counts()"
   ]
  },
  {
   "cell_type": "markdown",
   "metadata": {},
   "source": [
    "#### Replacing  missing value in data[\"constructionYear\"]\n",
    "https://pandas.pydata.org/docs/user_guide/missing_data.html#filling-missing-values-fillna"
   ]
  },
  {
   "cell_type": "code",
   "execution_count": 81,
   "metadata": {},
   "outputs": [],
   "source": [
    "construction = data[\"constructionYear\"]"
   ]
  },
  {
   "cell_type": "code",
   "execution_count": 85,
   "metadata": {},
   "outputs": [],
   "source": [
    "construction.fillna(method=\"bfill\",inplace=True)"
   ]
  },
  {
   "cell_type": "code",
   "execution_count": 84,
   "metadata": {},
   "outputs": [],
   "source": [
    "data[\"constructionYear\"] = construction"
   ]
  },
  {
   "cell_type": "markdown",
   "metadata": {},
   "source": [
    "#### Doing the same with data[\"hasSwimmingPool\"] and data[\"basementExists\"]\n",
    "#### and data[\"cuisine_type\"]"
   ]
  },
  {
   "cell_type": "code",
   "execution_count": 90,
   "metadata": {},
   "outputs": [],
   "source": [
    "data[\"hasSwimmingPool\"].fillna(\"False\",inplace= True)\n",
    "data[\"basementExists\"].fillna(\"False\",inplace= True)\n",
    "data[\"cuisine_type\"].fillna(\"No infos\",inplace= True)"
   ]
  },
  {
   "cell_type": "code",
   "execution_count": null,
   "metadata": {},
   "outputs": [],
   "source": []
  },
  {
   "cell_type": "markdown",
   "metadata": {},
   "source": [
    "## Let's see :"
   ]
  },
  {
   "cell_type": "code",
   "execution_count": 91,
   "metadata": {},
   "outputs": [
    {
     "name": "stdout",
     "output_type": "stream",
     "text": [
      "<class 'pandas.core.frame.DataFrame'>\n",
      "RangeIndex: 8930 entries, 0 to 8929\n",
      "Data columns (total 21 columns):\n",
      " #   Column               Non-Null Count  Dtype  \n",
      "---  ------               --------------  -----  \n",
      " 0   id                   8930 non-null   int64  \n",
      " 1   type                 8930 non-null   object \n",
      " 2   subtype              8930 non-null   object \n",
      " 3   price                8930 non-null   object \n",
      " 4   transactionType      8930 non-null   object \n",
      " 5   zip                  8930 non-null   int64  \n",
      " 6   visualisationOption  8930 non-null   object \n",
      " 7   cuisine_type         8930 non-null   object \n",
      " 8   constructionYear     8930 non-null   float64\n",
      " 9   condition            7136 non-null   object \n",
      " 10  heatingType          6964 non-null   object \n",
      " 11  room_number          8096 non-null   float64\n",
      " 12  atticExists          8930 non-null   object \n",
      " 13  basementExists       8930 non-null   object \n",
      " 14  hasSwimmingPool      8930 non-null   object \n",
      " 15  indoor               3693 non-null   float64\n",
      " 16  outdoor              3002 non-null   float64\n",
      " 17  short_id             8930 non-null   int64  \n",
      " 18  company_name         8293 non-null   object \n",
      " 19  mètres carrés        8930 non-null   int64  \n",
      " 20  commune              8930 non-null   object \n",
      "dtypes: float64(4), int64(4), object(13)\n",
      "memory usage: 1.4+ MB\n"
     ]
    }
   ],
   "source": [
    "data.info()"
   ]
  },
  {
   "cell_type": "markdown",
   "metadata": {},
   "source": [
    "#### condition, heatingtype,room_number and company_name need to be dealt with"
   ]
  },
  {
   "cell_type": "code",
   "execution_count": 95,
   "metadata": {},
   "outputs": [],
   "source": [
    "data[\"heatingType\"].fillna(method='pad',inplace=True)\n",
    "data[\"condition\"].fillna(method='pad',inplace=True)\n",
    "data[\"room_number\"].fillna(method='pad',inplace=True)"
   ]
  },
  {
   "cell_type": "code",
   "execution_count": 97,
   "metadata": {},
   "outputs": [],
   "source": [
    "data[\"company_name\"].fillna(\"No agency\",inplace=True)"
   ]
  },
  {
   "cell_type": "code",
   "execution_count": 98,
   "metadata": {},
   "outputs": [
    {
     "name": "stdout",
     "output_type": "stream",
     "text": [
      "<class 'pandas.core.frame.DataFrame'>\n",
      "RangeIndex: 8930 entries, 0 to 8929\n",
      "Data columns (total 21 columns):\n",
      " #   Column               Non-Null Count  Dtype  \n",
      "---  ------               --------------  -----  \n",
      " 0   id                   8930 non-null   int64  \n",
      " 1   type                 8930 non-null   object \n",
      " 2   subtype              8930 non-null   object \n",
      " 3   price                8930 non-null   object \n",
      " 4   transactionType      8930 non-null   object \n",
      " 5   zip                  8930 non-null   int64  \n",
      " 6   visualisationOption  8930 non-null   object \n",
      " 7   cuisine_type         8930 non-null   object \n",
      " 8   constructionYear     8930 non-null   float64\n",
      " 9   condition            8930 non-null   object \n",
      " 10  heatingType          8930 non-null   object \n",
      " 11  room_number          8930 non-null   float64\n",
      " 12  atticExists          8930 non-null   object \n",
      " 13  basementExists       8930 non-null   object \n",
      " 14  hasSwimmingPool      8930 non-null   object \n",
      " 15  indoor               3693 non-null   float64\n",
      " 16  outdoor              3002 non-null   float64\n",
      " 17  short_id             8930 non-null   int64  \n",
      " 18  company_name         8930 non-null   object \n",
      " 19  mètres carrés        8930 non-null   int64  \n",
      " 20  commune              8930 non-null   object \n",
      "dtypes: float64(4), int64(4), object(13)\n",
      "memory usage: 1.4+ MB\n"
     ]
    }
   ],
   "source": [
    "data.info()"
   ]
  },
  {
   "cell_type": "markdown",
   "metadata": {},
   "source": [
    "TODO :Indoor and outdoor could probably be merge "
   ]
  }
 ],
 "metadata": {
  "kernelspec": {
   "display_name": "becode",
   "language": "python",
   "name": "becode"
  },
  "language_info": {
   "codemirror_mode": {
    "name": "ipython",
    "version": 3
   },
   "file_extension": ".py",
   "mimetype": "text/x-python",
   "name": "python",
   "nbconvert_exporter": "python",
   "pygments_lexer": "ipython3",
   "version": "3.6.7"
  }
 },
 "nbformat": 4,
 "nbformat_minor": 4
}
