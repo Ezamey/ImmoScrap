{
 "cells": [
  {
   "cell_type": "code",
   "execution_count": 6,
   "metadata": {},
   "outputs": [],
   "source": [
    "#imports\n",
    "import pandas as pd"
   ]
  },
  {
   "cell_type": "markdown",
   "metadata": {},
   "source": [
    "stocks.csv contient le résultat de 150 pages pour house et appartements"
   ]
  },
  {
   "cell_type": "code",
   "execution_count": 7,
   "metadata": {},
   "outputs": [],
   "source": [
    "pd.options.display.max_columns = None"
   ]
  },
  {
   "cell_type": "code",
   "execution_count": 8,
   "metadata": {},
   "outputs": [],
   "source": [
    "d= \"quick.csv\""
   ]
  },
  {
   "cell_type": "code",
   "execution_count": 9,
   "metadata": {},
   "outputs": [],
   "source": [
    "data = pd.read_csv(d)"
   ]
  },
  {
   "cell_type": "code",
   "execution_count": 10,
   "metadata": {},
   "outputs": [
    {
     "data": {
      "text/html": [
       "<div>\n",
       "<style scoped>\n",
       "    .dataframe tbody tr th:only-of-type {\n",
       "        vertical-align: middle;\n",
       "    }\n",
       "\n",
       "    .dataframe tbody tr th {\n",
       "        vertical-align: top;\n",
       "    }\n",
       "\n",
       "    .dataframe thead th {\n",
       "        text-align: right;\n",
       "    }\n",
       "</style>\n",
       "<table border=\"1\" class=\"dataframe\">\n",
       "  <thead>\n",
       "    <tr style=\"text-align: right;\">\n",
       "      <th></th>\n",
       "      <th>id</th>\n",
       "      <th>type</th>\n",
       "      <th>subtype</th>\n",
       "      <th>price</th>\n",
       "      <th>transactionType</th>\n",
       "      <th>zip</th>\n",
       "      <th>visualisationOption</th>\n",
       "      <th>cuisine_type</th>\n",
       "      <th>constructionYear</th>\n",
       "      <th>condition</th>\n",
       "      <th>heatingType</th>\n",
       "      <th>primaryEnergyConsumptionLevel</th>\n",
       "      <th>room_number</th>\n",
       "      <th>surface</th>\n",
       "      <th>atticExists</th>\n",
       "      <th>basementExists</th>\n",
       "      <th>hasSwimmingPool</th>\n",
       "      <th>indoor</th>\n",
       "      <th>outdoor</th>\n",
       "      <th>short_id</th>\n",
       "      <th>company_name</th>\n",
       "      <th>m2</th>\n",
       "      <th>commune</th>\n",
       "    </tr>\n",
       "  </thead>\n",
       "  <tbody>\n",
       "    <tr>\n",
       "      <th>0</th>\n",
       "      <td>9043036</td>\n",
       "      <td>apartment</td>\n",
       "      <td>apartment</td>\n",
       "      <td>195000</td>\n",
       "      <td>for sale</td>\n",
       "      <td>9600</td>\n",
       "      <td>xl</td>\n",
       "      <td>installed</td>\n",
       "      <td>2014.0</td>\n",
       "      <td>good</td>\n",
       "      <td>gas</td>\n",
       "      <td>NaN</td>\n",
       "      <td>2.0</td>\n",
       "      <td>NaN</td>\n",
       "      <td>NaN</td>\n",
       "      <td>NaN</td>\n",
       "      <td>NaN</td>\n",
       "      <td>NaN</td>\n",
       "      <td>NaN</td>\n",
       "      <td>1002634</td>\n",
       "      <td>immo beguin</td>\n",
       "      <td>75</td>\n",
       "      <td>Renaix</td>\n",
       "    </tr>\n",
       "    <tr>\n",
       "      <th>1</th>\n",
       "      <td>9041098</td>\n",
       "      <td>apartment group</td>\n",
       "      <td>apartment group</td>\n",
       "      <td>165000 - 420000</td>\n",
       "      <td>for sale</td>\n",
       "      <td>6001</td>\n",
       "      <td>xl</td>\n",
       "      <td>NaN</td>\n",
       "      <td>NaN</td>\n",
       "      <td>NaN</td>\n",
       "      <td>NaN</td>\n",
       "      <td>NaN</td>\n",
       "      <td>NaN</td>\n",
       "      <td>NaN</td>\n",
       "      <td>NaN</td>\n",
       "      <td>NaN</td>\n",
       "      <td>NaN</td>\n",
       "      <td>NaN</td>\n",
       "      <td>NaN</td>\n",
       "      <td>1400721</td>\n",
       "      <td>concept confort sprl</td>\n",
       "      <td>64</td>\n",
       "      <td>Marcinelle</td>\n",
       "    </tr>\n",
       "    <tr>\n",
       "      <th>2</th>\n",
       "      <td>9042073</td>\n",
       "      <td>apartment</td>\n",
       "      <td>apartment</td>\n",
       "      <td>320000</td>\n",
       "      <td>for sale</td>\n",
       "      <td>1070</td>\n",
       "      <td>xl</td>\n",
       "      <td>usa hyper equipped</td>\n",
       "      <td>2017.0</td>\n",
       "      <td>as new</td>\n",
       "      <td>gas</td>\n",
       "      <td>NaN</td>\n",
       "      <td>3.0</td>\n",
       "      <td>NaN</td>\n",
       "      <td>NaN</td>\n",
       "      <td>True</td>\n",
       "      <td>NaN</td>\n",
       "      <td>1.0</td>\n",
       "      <td>1.0</td>\n",
       "      <td>2916018</td>\n",
       "      <td>sky realty</td>\n",
       "      <td>130</td>\n",
       "      <td>Anderlecht</td>\n",
       "    </tr>\n",
       "    <tr>\n",
       "      <th>3</th>\n",
       "      <td>9042129</td>\n",
       "      <td>apartment group</td>\n",
       "      <td>apartment group</td>\n",
       "      <td>336000 - 610000</td>\n",
       "      <td>for sale</td>\n",
       "      <td>1000</td>\n",
       "      <td>xl</td>\n",
       "      <td>NaN</td>\n",
       "      <td>NaN</td>\n",
       "      <td>NaN</td>\n",
       "      <td>NaN</td>\n",
       "      <td>NaN</td>\n",
       "      <td>NaN</td>\n",
       "      <td>NaN</td>\n",
       "      <td>NaN</td>\n",
       "      <td>NaN</td>\n",
       "      <td>NaN</td>\n",
       "      <td>1.0</td>\n",
       "      <td>1.0</td>\n",
       "      <td>2575488</td>\n",
       "      <td>we invest real estate</td>\n",
       "      <td>94</td>\n",
       "      <td>Bruxelles</td>\n",
       "    </tr>\n",
       "    <tr>\n",
       "      <th>4</th>\n",
       "      <td>9042175</td>\n",
       "      <td>apartment group</td>\n",
       "      <td>apartment group</td>\n",
       "      <td>127000 - 166000</td>\n",
       "      <td>for sale</td>\n",
       "      <td>1160</td>\n",
       "      <td>xl</td>\n",
       "      <td>NaN</td>\n",
       "      <td>NaN</td>\n",
       "      <td>NaN</td>\n",
       "      <td>NaN</td>\n",
       "      <td>NaN</td>\n",
       "      <td>NaN</td>\n",
       "      <td>NaN</td>\n",
       "      <td>NaN</td>\n",
       "      <td>NaN</td>\n",
       "      <td>NaN</td>\n",
       "      <td>1.0</td>\n",
       "      <td>1.0</td>\n",
       "      <td>2575488</td>\n",
       "      <td>we invest real estate</td>\n",
       "      <td>19</td>\n",
       "      <td>Auderghem</td>\n",
       "    </tr>\n",
       "  </tbody>\n",
       "</table>\n",
       "</div>"
      ],
      "text/plain": [
       "        id             type          subtype            price transactionType  \\\n",
       "0  9043036        apartment        apartment           195000        for sale   \n",
       "1  9041098  apartment group  apartment group  165000 - 420000        for sale   \n",
       "2  9042073        apartment        apartment           320000        for sale   \n",
       "3  9042129  apartment group  apartment group  336000 - 610000        for sale   \n",
       "4  9042175  apartment group  apartment group  127000 - 166000        for sale   \n",
       "\n",
       "    zip visualisationOption        cuisine_type  constructionYear condition  \\\n",
       "0  9600                  xl           installed            2014.0      good   \n",
       "1  6001                  xl                 NaN               NaN       NaN   \n",
       "2  1070                  xl  usa hyper equipped            2017.0    as new   \n",
       "3  1000                  xl                 NaN               NaN       NaN   \n",
       "4  1160                  xl                 NaN               NaN       NaN   \n",
       "\n",
       "  heatingType  primaryEnergyConsumptionLevel  room_number  surface  \\\n",
       "0         gas                            NaN          2.0      NaN   \n",
       "1         NaN                            NaN          NaN      NaN   \n",
       "2         gas                            NaN          3.0      NaN   \n",
       "3         NaN                            NaN          NaN      NaN   \n",
       "4         NaN                            NaN          NaN      NaN   \n",
       "\n",
       "  atticExists basementExists hasSwimmingPool  indoor  outdoor  short_id  \\\n",
       "0         NaN            NaN             NaN     NaN      NaN   1002634   \n",
       "1         NaN            NaN             NaN     NaN      NaN   1400721   \n",
       "2         NaN           True             NaN     1.0      1.0   2916018   \n",
       "3         NaN            NaN             NaN     1.0      1.0   2575488   \n",
       "4         NaN            NaN             NaN     1.0      1.0   2575488   \n",
       "\n",
       "            company_name   m2     commune  \n",
       "0            immo beguin   75      Renaix  \n",
       "1   concept confort sprl   64  Marcinelle  \n",
       "2             sky realty  130  Anderlecht  \n",
       "3  we invest real estate   94   Bruxelles  \n",
       "4  we invest real estate   19   Auderghem  "
      ]
     },
     "execution_count": 10,
     "metadata": {},
     "output_type": "execute_result"
    }
   ],
   "source": [
    "data.head(5)"
   ]
  },
  {
   "cell_type": "code",
   "execution_count": 11,
   "metadata": {},
   "outputs": [
    {
     "name": "stdout",
     "output_type": "stream",
     "text": [
      "<class 'pandas.core.frame.DataFrame'>\n",
      "RangeIndex: 60 entries, 0 to 59\n",
      "Data columns (total 23 columns):\n",
      " #   Column                         Non-Null Count  Dtype  \n",
      "---  ------                         --------------  -----  \n",
      " 0   id                             60 non-null     int64  \n",
      " 1   type                           60 non-null     object \n",
      " 2   subtype                        60 non-null     object \n",
      " 3   price                          60 non-null     object \n",
      " 4   transactionType                60 non-null     object \n",
      " 5   zip                            60 non-null     int64  \n",
      " 6   visualisationOption            60 non-null     object \n",
      " 7   cuisine_type                   52 non-null     object \n",
      " 8   constructionYear               52 non-null     float64\n",
      " 9   condition                      52 non-null     object \n",
      " 10  heatingType                    51 non-null     object \n",
      " 11  primaryEnergyConsumptionLevel  0 non-null      float64\n",
      " 12  room_number                    52 non-null     float64\n",
      " 13  surface                        18 non-null     float64\n",
      " 14  atticExists                    8 non-null      object \n",
      " 15  basementExists                 35 non-null     object \n",
      " 16  hasSwimmingPool                1 non-null      object \n",
      " 17  indoor                         30 non-null     float64\n",
      " 18  outdoor                        31 non-null     float64\n",
      " 19  short_id                       60 non-null     int64  \n",
      " 20  company_name                   54 non-null     object \n",
      " 21  m2                             60 non-null     int64  \n",
      " 22  commune                        60 non-null     object \n",
      "dtypes: float64(6), int64(4), object(13)\n",
      "memory usage: 10.9+ KB\n"
     ]
    }
   ],
   "source": [
    "data.info()"
   ]
  },
  {
   "cell_type": "markdown",
   "metadata": {},
   "source": [
    " # Exploring datas"
   ]
  },
  {
   "cell_type": "code",
   "execution_count": null,
   "metadata": {},
   "outputs": [],
   "source": [
    "data[\"cuisine_type\"].value_counts()"
   ]
  },
  {
   "cell_type": "markdown",
   "metadata": {},
   "source": [
    "- Remplacer les null par installed? les supprimer?"
   ]
  },
  {
   "cell_type": "code",
   "execution_count": null,
   "metadata": {},
   "outputs": [],
   "source": [
    "data[\"constructionYear\"].value_counts()"
   ]
  },
  {
   "cell_type": "code",
   "execution_count": null,
   "metadata": {},
   "outputs": [],
   "source": [
    "data[\"condition\"].value_counts()"
   ]
  },
  {
   "cell_type": "code",
   "execution_count": null,
   "metadata": {},
   "outputs": [],
   "source": [
    "data[\"heatingType\"].value_counts()"
   ]
  },
  {
   "cell_type": "code",
   "execution_count": null,
   "metadata": {},
   "outputs": [],
   "source": [
    "data[\"atticExists\"].value_counts()#assume rest is false"
   ]
  },
  {
   "cell_type": "code",
   "execution_count": null,
   "metadata": {},
   "outputs": [],
   "source": [
    "data[\"basementExists\"].value_counts()#assume rest is false"
   ]
  },
  {
   "cell_type": "code",
   "execution_count": null,
   "metadata": {},
   "outputs": [],
   "source": [
    "data[\"hasSwimmingPool\"].value_counts()#assume rest is false"
   ]
  },
  {
   "cell_type": "code",
   "execution_count": null,
   "metadata": {},
   "outputs": [],
   "source": [
    "#data[\"indoor\"].value_counts() ??"
   ]
  },
  {
   "cell_type": "code",
   "execution_count": null,
   "metadata": {},
   "outputs": [],
   "source": [
    "#data[\"outdoor\"].value_counts() ??"
   ]
  },
  {
   "cell_type": "code",
   "execution_count": null,
   "metadata": {},
   "outputs": [],
   "source": [
    "data.describe()"
   ]
  },
  {
   "cell_type": "markdown",
   "metadata": {},
   "source": [
    " # Premières modifs"
   ]
  },
  {
   "cell_type": "code",
   "execution_count": null,
   "metadata": {},
   "outputs": [],
   "source": [
    "data.rename(columns={'m2':\"mètres carrés\"},inplace=True)"
   ]
  },
  {
   "cell_type": "code",
   "execution_count": null,
   "metadata": {},
   "outputs": [],
   "source": [
    "del data[\"surface\"]\n",
    "del data[\"primaryEnergyConsumptionLevel\"]"
   ]
  },
  {
   "cell_type": "code",
   "execution_count": null,
   "metadata": {},
   "outputs": [],
   "source": [
    "data.columns"
   ]
  },
  {
   "cell_type": "markdown",
   "metadata": {},
   "source": [
    "### Replacing  missing value in data[\"atticExists\"]\n"
   ]
  },
  {
   "cell_type": "code",
   "execution_count": null,
   "metadata": {},
   "outputs": [],
   "source": [
    "attics = data[\"atticExists\"]"
   ]
  },
  {
   "cell_type": "code",
   "execution_count": null,
   "metadata": {},
   "outputs": [],
   "source": [
    "attics.value_counts()"
   ]
  },
  {
   "cell_type": "code",
   "execution_count": null,
   "metadata": {},
   "outputs": [],
   "source": [
    "attics.fillna(\"False\",inplace= True)"
   ]
  },
  {
   "cell_type": "code",
   "execution_count": null,
   "metadata": {},
   "outputs": [],
   "source": [
    "attics.value_counts()"
   ]
  },
  {
   "cell_type": "code",
   "execution_count": null,
   "metadata": {},
   "outputs": [],
   "source": [
    "data[\"atticExists\"] =attics"
   ]
  },
  {
   "cell_type": "code",
   "execution_count": null,
   "metadata": {},
   "outputs": [],
   "source": [
    "data[\"atticExists\"].value_counts()"
   ]
  },
  {
   "cell_type": "markdown",
   "metadata": {},
   "source": [
    "#### Replacing  missing value in data[\"constructionYear\"]\n",
    "https://pandas.pydata.org/docs/user_guide/missing_data.html#filling-missing-values-fillna"
   ]
  },
  {
   "cell_type": "code",
   "execution_count": null,
   "metadata": {},
   "outputs": [],
   "source": [
    "construction = data[\"constructionYear\"]"
   ]
  },
  {
   "cell_type": "code",
   "execution_count": null,
   "metadata": {},
   "outputs": [],
   "source": [
    "construction.fillna(method=\"bfill\",inplace=True)"
   ]
  },
  {
   "cell_type": "code",
   "execution_count": null,
   "metadata": {},
   "outputs": [],
   "source": [
    "data[\"constructionYear\"] = construction"
   ]
  },
  {
   "cell_type": "markdown",
   "metadata": {},
   "source": [
    "#### Doing the same with data[\"hasSwimmingPool\"] and data[\"basementExists\"]\n",
    "#### and data[\"cuisine_type\"]"
   ]
  },
  {
   "cell_type": "code",
   "execution_count": null,
   "metadata": {},
   "outputs": [],
   "source": [
    "data[\"hasSwimmingPool\"].fillna(\"False\",inplace= True)\n",
    "data[\"basementExists\"].fillna(\"False\",inplace= True)\n",
    "data[\"cuisine_type\"].fillna(\"No infos\",inplace= True)"
   ]
  },
  {
   "cell_type": "code",
   "execution_count": null,
   "metadata": {},
   "outputs": [],
   "source": []
  },
  {
   "cell_type": "markdown",
   "metadata": {},
   "source": [
    "## Let's see :"
   ]
  },
  {
   "cell_type": "code",
   "execution_count": null,
   "metadata": {},
   "outputs": [],
   "source": [
    "data.info()"
   ]
  },
  {
   "cell_type": "markdown",
   "metadata": {},
   "source": [
    "#### condition, heatingtype,room_number and company_name need to be dealt with"
   ]
  },
  {
   "cell_type": "code",
   "execution_count": null,
   "metadata": {},
   "outputs": [],
   "source": [
    "data[\"heatingType\"].fillna(method='pad',inplace=True)\n",
    "data[\"condition\"].fillna(method='pad',inplace=True)\n",
    "data[\"room_number\"].fillna(method='pad',inplace=True)"
   ]
  },
  {
   "cell_type": "code",
   "execution_count": null,
   "metadata": {},
   "outputs": [],
   "source": [
    "data[\"company_name\"].fillna(\"No agency\",inplace=True)"
   ]
  },
  {
   "cell_type": "code",
   "execution_count": null,
   "metadata": {},
   "outputs": [],
   "source": [
    "data.info()"
   ]
  },
  {
   "cell_type": "markdown",
   "metadata": {},
   "source": [
    "TODO :Indoor and outdoor could probably be merge "
   ]
  }
 ],
 "metadata": {
  "kernelspec": {
   "display_name": "becode",
   "language": "python",
   "name": "becode"
  },
  "language_info": {
   "codemirror_mode": {
    "name": "ipython",
    "version": 3
   },
   "file_extension": ".py",
   "mimetype": "text/x-python",
   "name": "python",
   "nbconvert_exporter": "python",
   "pygments_lexer": "ipython3",
   "version": "3.6.7"
  }
 },
 "nbformat": 4,
 "nbformat_minor": 4
}
